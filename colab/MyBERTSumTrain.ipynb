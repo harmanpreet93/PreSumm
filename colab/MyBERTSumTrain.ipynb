{
  "nbformat": 4,
  "nbformat_minor": 0,
  "metadata": {
    "colab": {
      "name": "MyBERTSumTrainAll.ipynb",
      "provenance": [],
      "toc_visible": true
    },
    "kernelspec": {
      "name": "python3",
      "display_name": "Python 3"
    },
    "accelerator": "GPU"
  },
  "cells": [
    {
      "cell_type": "code",
      "metadata": {
        "id": "Nmv9v8ZyCh3s",
        "colab_type": "code",
        "colab": {}
      },
      "source": [
        "import os"
      ],
      "execution_count": 0,
      "outputs": []
    },
    {
      "cell_type": "code",
      "metadata": {
        "id": "JmC8Y8_PEEoO",
        "colab_type": "code",
        "colab": {}
      },
      "source": [
        "os.chdir(\"/content/drive/My Drive/dev/PreSumm\")"
      ],
      "execution_count": 0,
      "outputs": []
    },
    {
      "cell_type": "code",
      "metadata": {
        "id": "HCRdoEUfEMw5",
        "colab_type": "code",
        "outputId": "6effc655-8524-4e78-a960-6e57490d8da5",
        "colab": {
          "base_uri": "https://localhost:8080/",
          "height": 1000
        }
      },
      "source": [
        "!pip install -r requirements.txt"
      ],
      "execution_count": 0,
      "outputs": [
        {
          "output_type": "stream",
          "text": [
            "Requirement already satisfied: multiprocess==0.70.9 in /usr/local/lib/python3.6/dist-packages (from -r requirements.txt (line 1)) (0.70.9)\n",
            "Collecting numpy==1.17.2\n",
            "\u001b[?25l  Downloading https://files.pythonhosted.org/packages/e5/e6/c3fdc53aed9fa19d6ff3abf97dfad768ae3afce1b7431f7500000816bda5/numpy-1.17.2-cp36-cp36m-manylinux1_x86_64.whl (20.4MB)\n",
            "\u001b[K     |████████████████████████████████| 20.4MB 159kB/s \n",
            "\u001b[?25hCollecting pyrouge==0.1.3\n",
            "\u001b[?25l  Downloading https://files.pythonhosted.org/packages/11/85/e522dd6b36880ca19dcf7f262b22365748f56edc6f455e7b6a37d0382c32/pyrouge-0.1.3.tar.gz (60kB)\n",
            "\u001b[K     |████████████████████████████████| 61kB 11.4MB/s \n",
            "\u001b[?25hCollecting pytorch-transformers==1.2.0\n",
            "\u001b[?25l  Downloading https://files.pythonhosted.org/packages/a3/b7/d3d18008a67e0b968d1ab93ad444fc05699403fa662f634b2f2c318a508b/pytorch_transformers-1.2.0-py3-none-any.whl (176kB)\n",
            "\u001b[K     |████████████████████████████████| 184kB 55.7MB/s \n",
            "\u001b[?25hCollecting tensorboardX==1.9\n",
            "\u001b[?25l  Downloading https://files.pythonhosted.org/packages/a6/5c/e918d9f190baab8d55bad52840d8091dd5114cc99f03eaa6d72d404503cc/tensorboardX-1.9-py2.py3-none-any.whl (190kB)\n",
            "\u001b[K     |████████████████████████████████| 194kB 59.7MB/s \n",
            "\u001b[?25hCollecting torch==1.1.0\n",
            "\u001b[?25l  Downloading https://files.pythonhosted.org/packages/69/60/f685fb2cfb3088736bafbc9bdbb455327bdc8906b606da9c9a81bae1c81e/torch-1.1.0-cp36-cp36m-manylinux1_x86_64.whl (676.9MB)\n",
            "\u001b[K     |████████████████████████████████| 676.9MB 27kB/s \n",
            "\u001b[?25hRequirement already satisfied: dill>=0.3.1 in /usr/local/lib/python3.6/dist-packages (from multiprocess==0.70.9->-r requirements.txt (line 1)) (0.3.1.1)\n",
            "Requirement already satisfied: requests in /usr/local/lib/python3.6/dist-packages (from pytorch-transformers==1.2.0->-r requirements.txt (line 4)) (2.21.0)\n",
            "Requirement already satisfied: regex in /usr/local/lib/python3.6/dist-packages (from pytorch-transformers==1.2.0->-r requirements.txt (line 4)) (2019.12.20)\n",
            "Collecting sentencepiece\n",
            "\u001b[?25l  Downloading https://files.pythonhosted.org/packages/74/f4/2d5214cbf13d06e7cb2c20d84115ca25b53ea76fa1f0ade0e3c9749de214/sentencepiece-0.1.85-cp36-cp36m-manylinux1_x86_64.whl (1.0MB)\n",
            "\u001b[K     |████████████████████████████████| 1.0MB 43.9MB/s \n",
            "\u001b[?25hRequirement already satisfied: boto3 in /usr/local/lib/python3.6/dist-packages (from pytorch-transformers==1.2.0->-r requirements.txt (line 4)) (1.12.31)\n",
            "Requirement already satisfied: tqdm in /usr/local/lib/python3.6/dist-packages (from pytorch-transformers==1.2.0->-r requirements.txt (line 4)) (4.38.0)\n",
            "Collecting sacremoses\n",
            "\u001b[?25l  Downloading https://files.pythonhosted.org/packages/a6/b4/7a41d630547a4afd58143597d5a49e07bfd4c42914d8335b2a5657efc14b/sacremoses-0.0.38.tar.gz (860kB)\n",
            "\u001b[K     |████████████████████████████████| 870kB 50.1MB/s \n",
            "\u001b[?25hRequirement already satisfied: protobuf>=3.8.0 in /usr/local/lib/python3.6/dist-packages (from tensorboardX==1.9->-r requirements.txt (line 5)) (3.10.0)\n",
            "Requirement already satisfied: six in /usr/local/lib/python3.6/dist-packages (from tensorboardX==1.9->-r requirements.txt (line 5)) (1.12.0)\n",
            "Requirement already satisfied: urllib3<1.25,>=1.21.1 in /usr/local/lib/python3.6/dist-packages (from requests->pytorch-transformers==1.2.0->-r requirements.txt (line 4)) (1.24.3)\n",
            "Requirement already satisfied: certifi>=2017.4.17 in /usr/local/lib/python3.6/dist-packages (from requests->pytorch-transformers==1.2.0->-r requirements.txt (line 4)) (2019.11.28)\n",
            "Requirement already satisfied: chardet<3.1.0,>=3.0.2 in /usr/local/lib/python3.6/dist-packages (from requests->pytorch-transformers==1.2.0->-r requirements.txt (line 4)) (3.0.4)\n",
            "Requirement already satisfied: idna<2.9,>=2.5 in /usr/local/lib/python3.6/dist-packages (from requests->pytorch-transformers==1.2.0->-r requirements.txt (line 4)) (2.8)\n",
            "Requirement already satisfied: botocore<1.16.0,>=1.15.31 in /usr/local/lib/python3.6/dist-packages (from boto3->pytorch-transformers==1.2.0->-r requirements.txt (line 4)) (1.15.31)\n",
            "Requirement already satisfied: s3transfer<0.4.0,>=0.3.0 in /usr/local/lib/python3.6/dist-packages (from boto3->pytorch-transformers==1.2.0->-r requirements.txt (line 4)) (0.3.3)\n",
            "Requirement already satisfied: jmespath<1.0.0,>=0.7.1 in /usr/local/lib/python3.6/dist-packages (from boto3->pytorch-transformers==1.2.0->-r requirements.txt (line 4)) (0.9.5)\n",
            "Requirement already satisfied: click in /usr/local/lib/python3.6/dist-packages (from sacremoses->pytorch-transformers==1.2.0->-r requirements.txt (line 4)) (7.1.1)\n",
            "Requirement already satisfied: joblib in /usr/local/lib/python3.6/dist-packages (from sacremoses->pytorch-transformers==1.2.0->-r requirements.txt (line 4)) (0.14.1)\n",
            "Requirement already satisfied: setuptools in /usr/local/lib/python3.6/dist-packages (from protobuf>=3.8.0->tensorboardX==1.9->-r requirements.txt (line 5)) (46.0.0)\n",
            "Requirement already satisfied: docutils<0.16,>=0.10 in /usr/local/lib/python3.6/dist-packages (from botocore<1.16.0,>=1.15.31->boto3->pytorch-transformers==1.2.0->-r requirements.txt (line 4)) (0.15.2)\n",
            "Requirement already satisfied: python-dateutil<3.0.0,>=2.1 in /usr/local/lib/python3.6/dist-packages (from botocore<1.16.0,>=1.15.31->boto3->pytorch-transformers==1.2.0->-r requirements.txt (line 4)) (2.8.1)\n",
            "Building wheels for collected packages: pyrouge, sacremoses\n",
            "  Building wheel for pyrouge (setup.py) ... \u001b[?25l\u001b[?25hdone\n",
            "  Created wheel for pyrouge: filename=pyrouge-0.1.3-cp36-none-any.whl size=191613 sha256=f4d4d587135fc7c84b7a2ed80df839b399a50c665dd8a0c5e0279710def463d8\n",
            "  Stored in directory: /root/.cache/pip/wheels/75/d3/0c/e5b04e15b6b87c42e980de3931d2686e14d36e045058983599\n",
            "  Building wheel for sacremoses (setup.py) ... \u001b[?25l\u001b[?25hdone\n",
            "  Created wheel for sacremoses: filename=sacremoses-0.0.38-cp36-none-any.whl size=884628 sha256=77ee00e7073e3d0996ce0e3ed2d4956d2c7d29e01459a26df454f696534866e3\n",
            "  Stored in directory: /root/.cache/pip/wheels/6d/ec/1a/21b8912e35e02741306f35f66c785f3afe94de754a0eaf1422\n",
            "Successfully built pyrouge sacremoses\n",
            "\u001b[31mERROR: torchvision 0.5.0 has requirement torch==1.4.0, but you'll have torch 1.1.0 which is incompatible.\u001b[0m\n",
            "\u001b[31mERROR: datascience 0.10.6 has requirement folium==0.2.1, but you'll have folium 0.8.3 which is incompatible.\u001b[0m\n",
            "\u001b[31mERROR: albumentations 0.1.12 has requirement imgaug<0.2.7,>=0.2.5, but you'll have imgaug 0.2.9 which is incompatible.\u001b[0m\n",
            "Installing collected packages: numpy, pyrouge, sentencepiece, torch, sacremoses, pytorch-transformers, tensorboardX\n",
            "  Found existing installation: numpy 1.18.2\n",
            "    Uninstalling numpy-1.18.2:\n",
            "      Successfully uninstalled numpy-1.18.2\n",
            "  Found existing installation: torch 1.4.0\n",
            "    Uninstalling torch-1.4.0:\n",
            "      Successfully uninstalled torch-1.4.0\n",
            "Successfully installed numpy-1.17.2 pyrouge-0.1.3 pytorch-transformers-1.2.0 sacremoses-0.0.38 sentencepiece-0.1.85 tensorboardX-1.9 torch-1.1.0\n"
          ],
          "name": "stdout"
        },
        {
          "output_type": "display_data",
          "data": {
            "application/vnd.colab-display-data+json": {
              "pip_warning": {
                "packages": [
                  "numpy"
                ]
              }
            }
          },
          "metadata": {
            "tags": []
          }
        }
      ]
    },
    {
      "cell_type": "code",
      "metadata": {
        "id": "WLGpX363x-_6",
        "colab_type": "code",
        "colab": {}
      },
      "source": [
        "os.chdir(\"/content/drive/My Drive/dev/PreSumm/src\")"
      ],
      "execution_count": 0,
      "outputs": []
    },
    {
      "cell_type": "code",
      "metadata": {
        "id": "aqWoFisBLz3S",
        "colab_type": "code",
        "outputId": "9ae36922-70dc-4611-d003-ba469a536956",
        "colab": {
          "base_uri": "https://localhost:8080/",
          "height": 793
        }
      },
      "source": [
        " !python train.py \\\n",
        " -report_rouge false \\\n",
        " -task ext \\\n",
        " -mode test \\\n",
        " -test_from ../models/author_ext_model/bertext_cnndm_transformer.pt \\\n",
        " -batch_size 3000 \\\n",
        " -test_batch_size 500 \\\n",
        " -bert_data_path ../bert_data/train/cnndm \\\n",
        " -log_file ../logs/train/log_ext_bert_cnndm \\\n",
        " -model_path ../models/author_ext_model \\\n",
        " -sep_optim true \\\n",
        " -use_interval true \\\n",
        " -visible_gpus 0 \\\n",
        " -max_pos 512 \\\n",
        " -max_length 200 \\\n",
        " -alpha 0.95 \\\n",
        " -min_length 50 \\\n",
        " -result_path ../logs/train/result_ext_bert_cnndm"
      ],
      "execution_count": 0,
      "outputs": [
        {
          "output_type": "stream",
          "text": [
            "[2020-04-02 11:22:54,706 INFO] Loading checkpoint from ../models/author_ext_model/bertext_cnndm_transformer.pt\n",
            "Namespace(accum_count=1, alpha=0.95, batch_size=3000, beam_size=5, bert_data_path='../bert_data/train/cnndm', beta1=0.9, beta2=0.999, block_trigram=True, dec_dropout=0.2, dec_ff_size=2048, dec_heads=8, dec_hidden_size=768, dec_layers=6, enc_dropout=0.2, enc_ff_size=512, enc_hidden_size=512, enc_layers=6, encoder='bert', ext_dropout=0.2, ext_ff_size=2048, ext_heads=8, ext_hidden_size=768, ext_layers=2, finetune_bert=True, generator_shard_size=32, gpu_ranks=[0], label_smoothing=0.1, large=False, load_from_extractive='', log_file='../logs/train/log_ext_bert_cnndm', lr=1, lr_bert=0.002, lr_dec=0.002, max_grad_norm=0, max_length=200, max_pos=512, max_tgt_len=140, min_length=50, mode='test', model_path='../models/author_ext_model', optim='adam', param_init=0, param_init_glorot=True, recall_eval=False, report_every=1, report_rouge=False, result_path='../logs/train/result_ext_bert_cnndm', save_checkpoint_steps=5, seed=666, sep_optim=True, share_emb=False, task='ext', temp_dir='../temp', test_all=False, test_batch_size=500, test_from='../models/author_ext_model/bertext_cnndm_transformer.pt', test_start_from=-1, train_from='', train_steps=1000, use_bert_emb=False, use_interval=True, visible_gpus='0', warmup_steps=8000, warmup_steps_bert=8000, warmup_steps_dec=8000, world_size=1)\n",
            "[2020-04-02 11:23:19,512 INFO] loading configuration file https://s3.amazonaws.com/models.huggingface.co/bert/bert-base-uncased-config.json from cache at ../temp/4dad0251492946e18ac39290fcfe91b89d370fee250efe9521476438fe8ca185.8f56353af4a709bf5ff0fbc915d8f5b42bfff892cbb6ac98c3c45f481a03c685\n",
            "[2020-04-02 11:23:19,961 INFO] Model config {\n",
            "  \"architectures\": [\n",
            "    \"BertForMaskedLM\"\n",
            "  ],\n",
            "  \"attention_probs_dropout_prob\": 0.1,\n",
            "  \"finetuning_task\": null,\n",
            "  \"hidden_act\": \"gelu\",\n",
            "  \"hidden_dropout_prob\": 0.1,\n",
            "  \"hidden_size\": 768,\n",
            "  \"initializer_range\": 0.02,\n",
            "  \"intermediate_size\": 3072,\n",
            "  \"layer_norm_eps\": 1e-12,\n",
            "  \"max_position_embeddings\": 512,\n",
            "  \"num_attention_heads\": 12,\n",
            "  \"num_hidden_layers\": 12,\n",
            "  \"num_labels\": 2,\n",
            "  \"output_attentions\": false,\n",
            "  \"output_hidden_states\": false,\n",
            "  \"pruned_heads\": {},\n",
            "  \"torchscript\": false,\n",
            "  \"type_vocab_size\": 2,\n",
            "  \"vocab_size\": 30522\n",
            "}\n",
            "\n",
            "[2020-04-02 11:23:20,291 INFO] loading weights file https://s3.amazonaws.com/models.huggingface.co/bert/bert-base-uncased-pytorch_model.bin from cache at ../temp/aa1ef1aede4482d0dbcd4d52baad8ae300e60902e88fcb0bebdec09afd232066.36ca03ab34a1a5d5fa7bc3d03d55c4fa650fed07220e2eeebc06ce58d0e9a157\n",
            "[2020-04-02 11:23:40,874 INFO] Loading test dataset from ../bert_data/train/cnndm.test.0.bert.pt, number of examples: 2001\n",
            "gpu_rank 0\n",
            "[2020-04-02 11:23:40,878 INFO] * number of parameters: 120512513\n",
            "[2020-04-02 11:24:33,744 INFO] Loading test dataset from ../bert_data/train/cnndm.test.1.bert.pt, number of examples: 2001\n",
            "[2020-04-02 11:25:25,809 INFO] Loading test dataset from ../bert_data/train/cnndm.test.10.bert.pt, number of examples: 2001\n",
            "[2020-04-02 11:26:20,954 INFO] Loading test dataset from ../bert_data/train/cnndm.test.11.bert.pt, number of examples: 1999\n",
            "[2020-04-02 11:27:13,483 INFO] Loading test dataset from ../bert_data/train/cnndm.test.12.bert.pt, number of examples: 2001\n",
            "[2020-04-02 11:28:13,035 INFO] Loading test dataset from ../bert_data/train/cnndm.test.13.bert.pt, number of examples: 2001\n",
            "[2020-04-02 11:29:05,794 INFO] Loading test dataset from ../bert_data/train/cnndm.test.2.bert.pt, number of examples: 2001\n",
            "[2020-04-02 11:29:57,543 INFO] Loading test dataset from ../bert_data/train/cnndm.test.3.bert.pt, number of examples: 2001\n",
            "[2020-04-02 11:30:49,708 INFO] Loading test dataset from ../bert_data/train/cnndm.test.4.bert.pt, number of examples: 2001\n",
            "[2020-04-02 11:31:41,731 INFO] Loading test dataset from ../bert_data/train/cnndm.test.5.bert.pt, number of examples: 2001\n",
            "[2020-04-02 11:32:33,698 INFO] Loading test dataset from ../bert_data/train/cnndm.test.6.bert.pt, number of examples: 2001\n",
            "[2020-04-02 11:33:26,378 INFO] Loading test dataset from ../bert_data/train/cnndm.test.7.bert.pt, number of examples: 2001\n",
            "[2020-04-02 11:34:18,727 INFO] Loading test dataset from ../bert_data/train/cnndm.test.8.bert.pt, number of examples: 2000\n",
            "[2020-04-02 11:35:10,848 INFO] Loading test dataset from ../bert_data/train/cnndm.test.9.bert.pt, number of examples: 1999\n",
            "[2020-04-02 11:36:00,793 INFO] Validation xent: 5.19826 at step 0\n"
          ],
          "name": "stdout"
        }
      ]
    }
  ]
}